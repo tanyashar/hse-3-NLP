{
 "cells": [
  {
   "cell_type": "markdown",
   "metadata": {},
   "source": [
    "#  Viterbri Algorithm\n"
   ]
  },
  {
   "cell_type": "markdown",
   "metadata": {},
   "source": [
    "Viterbi Algorithm is usually used for finding the most likely tag sequence under an HMM. \n"
   ]
  },
  {
   "cell_type": "code",
   "execution_count": 2,
   "metadata": {},
   "outputs": [],
   "source": [
    "import re"
   ]
  },
  {
   "cell_type": "code",
   "execution_count": 3,
   "metadata": {},
   "outputs": [],
   "source": [
    "def viterbi_alg(tokens, states, trans_probs, emis_probs):\n",
    "    \n",
    "    viterbi = [[0]*len(states) for i in range(len(tokens))]\n",
    "    viterbi[0][0] = 1.0\n",
    "    way=[[None]*len(states) for i in range(len(tokens))]\n",
    "    for i in range(1, len(tokens)):\n",
    "        word = tokens[i]\n",
    "        for j in range(1, len(states)):\n",
    "            pos = states[j]\n",
    "            if i == 1:\n",
    "                ppos = states[0]\n",
    "                t = trans_probs[(ppos, pos)]\n",
    "                e = emis_probs[(pos, word)]\n",
    "                viterbi[i][j]= e*t\n",
    "                way[i][j] = (0, 0)\n",
    "            else:\n",
    "                e = emis_probs[(pos, word)]\n",
    "                m = 0\n",
    "                for k in range(1, len(states)-1):\n",
    "                    x = viterbi[i-1][k]\n",
    "                    ppos = states[k]\n",
    "                    t = trans_probs[(ppos, pos)]\n",
    "                    #viterbi[i][j] = max(viterbi[i][j], e*t*x)  \n",
    "                    if viterbi[i][j] < e*t*x:\n",
    "                        viterbi[i][j] = e*t*x\n",
    "                        way[i][j] = (i-1, k)\n",
    "    return viterbi, way"
   ]
  },
  {
   "cell_type": "markdown",
   "metadata": {},
   "source": [
    "Transition Probability is probability of going from one STATE to the other, e.g. from one word to the other (modeling word sequences)\n",
    "\n",
    "Emission Probability = probability of 'emitting' a PARTICULAR WORD when in a particular state \n",
    "the main weakness of HMM's is tagging unknown words"
   ]
  },
  {
   "cell_type": "code",
   "execution_count": 4,
   "metadata": {},
   "outputs": [],
   "source": [
    "# transition probabilities\n",
    "trans_probs = {('[START]', 'verb'): 0.2,\n",
    "\t\t\t   ('[START]', 'noun'): 0.8,\n",
    "\t\t\t   ('noun', 'verb'): 0.8,\n",
    "\t\t\t   ('noun', '[END]'): 0.1,\n",
    "\t\t\t   ('noun', 'noun'): 0.1,\n",
    "\t\t\t   ('verb', 'noun'): 0.2,\n",
    "\t\t\t   ('verb', 'verb'): 0.1,\n",
    "\t\t\t   ('verb', '[END]'): 0.7\n",
    "\t\t\t   }\n",
    "\n",
    "# emission probabilities\t\t\t   \n",
    "emis_probs = {('noun', 'fish'): 0.8,\n",
    "\t\t\t  ('noun', 'sleep'): 0.2,\n",
    "\t\t\t  ('verb', 'fish'): 0.5,\n",
    "\t\t\t  ('verb', 'sleep'): 0.5,\n",
    "              ('[START]', '#') : 1.0,\n",
    "              ('[END]', '$') : 1.0\n",
    "\t\t\t  }\n",
    "\n",
    "states = ['[START]', 'verb', 'noun', '[END]']\n",
    "s = 'fish sleep'\n",
    "tokens = ['#']\n",
    "tokens.extend(re.findall('\\w+', s.lower()))\n",
    "tokens.append('$')"
   ]
  },
  {
   "cell_type": "code",
   "execution_count": 5,
   "metadata": {},
   "outputs": [],
   "source": [
    "for i in states:\n",
    "    for j in states:\n",
    "        if (i, j) not in trans_probs:\n",
    "            trans_probs[(i, j)] = 0.0\n",
    "\n",
    "for i in states:\n",
    "    for j in tokens:\n",
    "        if (i, j) not in emis_probs:\n",
    "            emis_probs[(i, j)] = 0.0"
   ]
  },
  {
   "cell_type": "code",
   "execution_count": 6,
   "metadata": {},
   "outputs": [],
   "source": [
    "viterbi, way = viterbi_alg(tokens, states, trans_probs, emis_probs)"
   ]
  },
  {
   "cell_type": "code",
   "execution_count": 7,
   "metadata": {},
   "outputs": [
    {
     "name": "stdout",
     "output_type": "stream",
     "text": [
      "# [START] 1.0\n",
      "fish noun 0.6400000000000001\n",
      "sleep verb 0.25600000000000006\n",
      "$ [END] 0.17920000000000003\n"
     ]
    }
   ],
   "source": [
    "#восстановление пути\n",
    "i = len(tokens) - 1\n",
    "j = len(states) - 1\n",
    "p = [(i, j)]\n",
    "#print(viterbi, '\\n\\n', way)\n",
    "while i != 0 and j != 0:\n",
    "    pair = way[i][j]\n",
    "    i = pair[0]\n",
    "    j = pair[1]\n",
    "    p.append(pair)\n",
    "#rint(p[::-1])\n",
    "\n",
    "for i,j in p[::-1]:\n",
    "    print(tokens[i], states[j], viterbi[i][j])"
   ]
  },
  {
   "cell_type": "code",
   "execution_count": null,
   "metadata": {},
   "outputs": [],
   "source": []
  },
  {
   "cell_type": "code",
   "execution_count": null,
   "metadata": {},
   "outputs": [],
   "source": []
  }
 ],
 "metadata": {
  "kernelspec": {
   "display_name": "Python 3",
   "language": "python",
   "name": "python3"
  },
  "language_info": {
   "codemirror_mode": {
    "name": "ipython",
    "version": 3
   },
   "file_extension": ".py",
   "mimetype": "text/x-python",
   "name": "python",
   "nbconvert_exporter": "python",
   "pygments_lexer": "ipython3",
   "version": "3.5.2"
  }
 },
 "nbformat": 4,
 "nbformat_minor": 2
}
