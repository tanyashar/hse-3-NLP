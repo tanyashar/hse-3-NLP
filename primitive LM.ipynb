{
 "cells": [
  {
   "cell_type": "markdown",
   "metadata": {},
   "source": [
    "# Language Models"
   ]
  },
  {
   "cell_type": "markdown",
   "metadata": {},
   "source": [
    "LM says how likely we are to see some word sequences"
   ]
  },
  {
   "cell_type": "code",
   "execution_count": 1,
   "metadata": {},
   "outputs": [],
   "source": [
    "import re\n",
    "import math"
   ]
  },
  {
   "cell_type": "code",
   "execution_count": 2,
   "metadata": {},
   "outputs": [],
   "source": [
    "def tokenize(text):   \n",
    "    tokens = re.findall('\\w+', text.lower())\n",
    "    return tokens"
   ]
  },
  {
   "cell_type": "code",
   "execution_count": 3,
   "metadata": {},
   "outputs": [],
   "source": [
    "def get_ngrams(words, n):\n",
    "    dct = {}\n",
    "    for i,e in enumerate(words):\n",
    "        if i == len(words) - n + 1:\n",
    "            break\n",
    "        ngram = ''\n",
    "        for j in range(n):\n",
    "            ngram += words[i+j] + ' '\n",
    "\n",
    "        if ngram[:-1] in dct:\n",
    "            dct[ngram][:-1] += 1\n",
    "        else:\n",
    "            dct[ngram] = 1\n",
    "    return dct"
   ]
  },
  {
   "cell_type": "code",
   "execution_count": 4,
   "metadata": {},
   "outputs": [],
   "source": [
    "def get_prob(text, ngrams, ngrams1, n, V):\n",
    "    prob = 1.0\n",
    "    prob_smooth = 1.0\n",
    "    prob_log = 0.0\n",
    "    prob_smooth_log = 0.0\n",
    "    \n",
    "    text_words = tokenize(text)\n",
    "    text_ngrams = get_ngrams(text_words, n)\n",
    "    \n",
    "    if len(text_words) < n:\n",
    "        print('undefined')\n",
    "        return\n",
    "    \n",
    "    for text_i in text_ngrams:            \n",
    "        p1, p3, p4 = True, True, True\n",
    "        numer = 0   #numerator числитель, denumerator знаменатель\n",
    "        if text_i in ngrams:\n",
    "            numer = ngrams[text_i]\n",
    "        smallgrams = text_i.split()[:-1]\n",
    "        denum = 0    \n",
    "        s = ''\n",
    "        for j in smallgrams:\n",
    "            s += j + ' '\n",
    "        s = s[:-1]\n",
    "        if s in ngrams1:\n",
    "            denum = ngrams1[s]\n",
    "        \n",
    "        try:\n",
    "            prob *= numer/denum\n",
    "        except ZeroDivisionError:\n",
    "            p1 = False\n",
    "        \n",
    "        prob_smooth *= (numer + 1)/(denum + V)\n",
    "\n",
    "        try:\n",
    "            prob_log += math.log2(numer/denum)\n",
    "        except ValueError: \n",
    "            p3 = False\n",
    "        except ZeroDivisionError:\n",
    "            p3 = False\n",
    "        \n",
    "        try:\n",
    "            prob_smooth_log += math.log2((numer+1)/(denum+V))\n",
    "        except ValueError: \n",
    "            p4 = False\n",
    "        except ZeroDivisionError:\n",
    "            p4 = False\n",
    "            #prob = 0.0\n",
    "            \n",
    "        \n",
    "    if p1:\n",
    "        print(prob)\n",
    "    else:\n",
    "        print('undefined!')\n",
    "    \n",
    "    print(prob_smooth)\n",
    "    \n",
    "    if p3:\n",
    "        print(prob_log)\n",
    "    else:\n",
    "        print('undefined!')\n",
    "        \n",
    "    if p4:\n",
    "        print(prob_smooth_log)\n",
    "    else:\n",
    "        print('undefined!') \n",
    "        \n",
    "\n",
    "    return "
   ]
  },
  {
   "cell_type": "code",
   "execution_count": 5,
   "metadata": {},
   "outputs": [
    {
     "name": "stdout",
     "output_type": "stream",
     "text": [
      "a cat\n",
      "undefined!\n",
      "0.16666666666666666\n",
      "undefined!\n",
      "-2.584962500721156\n",
      "\n",
      "the dog\n",
      "undefined!\n",
      "0.16666666666666666\n",
      "undefined!\n",
      "-2.584962500721156\n",
      "\n",
      "the crocodile\n",
      "undefined!\n",
      "0.08333333333333333\n",
      "undefined!\n",
      "-3.584962500721156\n",
      "\n",
      "woke up the cat\n",
      "undefined!\n",
      "0.004629629629629629\n",
      "undefined!\n",
      "-7.754887502163468\n",
      "\n",
      "woke up the dog\n",
      "undefined!\n",
      "0.004629629629629629\n",
      "undefined!\n",
      "-7.754887502163468\n",
      "\n",
      "woke up the crocodile\n",
      "undefined!\n",
      "0.0023148148148148147\n",
      "undefined!\n",
      "-8.754887502163468\n",
      "\n",
      "woke up Batman\n",
      "undefined!\n",
      "0.013888888888888888\n",
      "undefined!\n",
      "-6.169925001442312\n",
      "\n",
      "Batman highfived Superman\n",
      "undefined!\n",
      "0.006944444444444444\n",
      "undefined!\n",
      "-7.169925001442312\n",
      "\n",
      "Batman high-fived Superman\n",
      "undefined!\n",
      "0.0005787037037037037\n",
      "undefined!\n",
      "-10.754887502163468\n",
      "\n",
      "Mom washed the frame\n",
      "undefined!\n",
      "0.0005787037037037037\n",
      "undefined!\n",
      "-10.754887502163468\n",
      "\n"
     ]
    }
   ],
   "source": [
    "n = 2\n",
    "corpus = 'I saw a cat and a dog. The cat was sleeping, and the dog was awake. I woke up the cat.'\n",
    "words = tokenize(corpus)\n",
    "unique_tokens = set(words)    #V = количество уникальных токенов\n",
    "V = len(unique_tokens)\n",
    "#V - длина словаря униграммов, количество уникальных слов; считать отдельно\n",
    "\n",
    "ngrams = get_ngrams(words, n)\n",
    "corp_size = len(ngrams)\n",
    "ngrams1 = get_ngrams(words, n-1)\n",
    "#print(len(ngrams1), ngrams1)\n",
    "tests = ('a cat', 'the dog', 'the crocodile', 'woke up the cat', 'woke up the dog', 'woke up the crocodile', 'woke up Batman', 'Batman highfived Superman', 'Batman high-fived Superman', 'Mom washed the frame')\n",
    "for t in tests:\n",
    "    print(t)\n",
    "    get_prob(t, ngrams, ngrams1, n, V)\n",
    "    print()\n"
   ]
  },
  {
   "cell_type": "code",
   "execution_count": 8,
   "metadata": {},
   "outputs": [],
   "source": [
    "#кортежи = tuple \n",
    "# = like list, but unchangable"
   ]
  },
  {
   "cell_type": "code",
   "execution_count": null,
   "metadata": {},
   "outputs": [],
   "source": []
  }
 ],
 "metadata": {
  "kernelspec": {
   "display_name": "Python 3",
   "language": "python",
   "name": "python3"
  },
  "language_info": {
   "codemirror_mode": {
    "name": "ipython",
    "version": 3
   },
   "file_extension": ".py",
   "mimetype": "text/x-python",
   "name": "python",
   "nbconvert_exporter": "python",
   "pygments_lexer": "ipython3",
   "version": "3.5.2"
  }
 },
 "nbformat": 4,
 "nbformat_minor": 2
}
