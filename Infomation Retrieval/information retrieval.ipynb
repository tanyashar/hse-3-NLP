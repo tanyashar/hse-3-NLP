{
 "cells": [
  {
   "cell_type": "markdown",
   "metadata": {},
   "source": [
    "# Information Retrieval"
   ]
  },
  {
   "cell_type": "markdown",
   "metadata": {},
   "source": [
    "Создаем и считаем BagOfWords(bow). Записываем его в файл 'bow.pickle'. Pickle - бинарный формат хранения файла. Нечитаемый для пользователя, но читаемый для машины. "
   ]
  },
  {
   "cell_type": "code",
   "execution_count": null,
   "metadata": {},
   "outputs": [],
   "source": [
    "#bow = BagOfWords\n",
    "N = 101\n",
    "bow = set()\n",
    "for i in range(N):\n",
    "    filename = 'info retrieval txt/(' + str(i+1) + ').txt'\n",
    "    text = open(filename, encoding='utf-8').read()\n",
    "    bow = bow | set(extract_words(text))\n",
    "print(len(bow))\n",
    "pickle.dump(bow, open('bow.pickle', 'wb'))"
   ]
  },
  {
   "cell_type": "markdown",
   "metadata": {},
   "source": [
    "Итеративный процесс: для каждого файла, содержащего новость, создаем его бинарное представление. Теперь каждый файл - это бинарный вектор. \n",
    "    Для каждого файла векторы записаны отдельно. Лежат в папке info retrieval/. "
   ]
  },
  {
   "cell_type": "code",
   "execution_count": null,
   "metadata": {},
   "outputs": [],
   "source": [
    "for i in range(N):\n",
    "    filename = 'info retrieval txt/(' + str(i+1) + ').txt'\n",
    "    text = open(filename, encoding='utf-8').read()\n",
    "    words = set(extract_words(text))\n",
    "    binary = {}\n",
    "    for j in bow:\n",
    "        binary[j] = 0\n",
    "    for w in words:\n",
    "        binary[w] = 1   \n",
    "    #print(binary)\n",
    "    file = 'info retrieval binary/' + (str(i+1)) + '.pickle'\n",
    "    pickle.dump(binary, open(file, 'wb'))\n",
    "#binary search     \n"
   ]
  },
  {
   "cell_type": "markdown",
   "metadata": {},
   "source": [
    "Для каждого слова из мешка слов считаем инвертированный индекс. \n",
    "inverted_index - словарь. key = слово; value = вектор. \n",
    "Записываем в файл 'inverted_index.pickle'. "
   ]
  },
  {
   "cell_type": "code",
   "execution_count": null,
   "metadata": {},
   "outputs": [],
   "source": [
    "inverted_index = {}\n",
    "for w in bow:\n",
    "    inverted_index[w] = []\n",
    "for i in range(N):\n",
    "    filename = 'info retrieval txt/(' + str(i+1) + ').txt'\n",
    "    text = open(filename, encoding='utf-8').read()\n",
    "    words = set(extract_words(text))\n",
    "    for w in words:\n",
    "        inverted_index[w].append(i+1)\n",
    "print(len(inverted_index))#, inverted_index)\n",
    "pickle.dump(inverted_index, open('inverted_index.pickle', 'wb'))    \n",
    "#inverted index"
   ]
  },
  {
   "cell_type": "markdown",
   "metadata": {},
   "source": [
    "Находим документы, в которых содержатся все слова из запроса query. Если такого документа нет, возвращаем 'There is no document that corresponds to your query'. Актуально для бинарного поиска (неранжированного). "
   ]
  },
  {
   "cell_type": "code",
   "execution_count": null,
   "metadata": {},
   "outputs": [],
   "source": [
    "cross = set([i+1 for i in range(N)])\n",
    "for q in query:\n",
    "    if q in bow:\n",
    "        row = set(inverted_index[q])\n",
    "    else:\n",
    "        cross = set()\n",
    "        break\n",
    "    #cross = set(inverted_index.get())\n",
    "    cross = cross & row\n",
    "if len(cross) == 0:\n",
    "    print('There is no document that corresponds to your query')\n",
    "else:\n",
    "    print('Documents that correspond to you query: ', end = '')\n",
    "    for i in cross:\n",
    "        print(i, end = ' ')\n",
    "#документы, к-е содержат ВСЕ слова из запроса (одновременно)"
   ]
  },
  {
   "cell_type": "markdown",
   "metadata": {},
   "source": [
    "Считаем idf для каждого слова из мешка слов. Записываем в файл 'idf.pickle'. "
   ]
  },
  {
   "cell_type": "code",
   "execution_count": null,
   "metadata": {},
   "outputs": [],
   "source": [
    "#count idf\n",
    "idf = {}\n",
    "for word in bow:\n",
    "    idf[word] = 0.0\n",
    "\n",
    "for word in bow:\n",
    "    df = len(inverted_index[word])\n",
    "    local_idf = math.log10(N/df)\n",
    "    idf[word] += round(local_idf, 3)\n",
    "    \n",
    "#print(idf)\n",
    "\n",
    "#with open('idf.pickle', 'wb') as f:\n",
    "#    pickle.dump(idf)\n",
    "\n",
    "pickle.dump(idf, open('idf.pickle', 'wb')) \n",
    "print(idf)"
   ]
  },
  {
   "cell_type": "markdown",
   "metadata": {},
   "source": [
    "# Программа"
   ]
  },
  {
   "cell_type": "code",
   "execution_count": 1,
   "metadata": {},
   "outputs": [],
   "source": [
    "import pickle\n",
    "import re\n",
    "import math\n",
    "import pymystem3\n",
    "m = pymystem3.Mystem()"
   ]
  },
  {
   "cell_type": "markdown",
   "metadata": {},
   "source": [
    "Функция extract_words возвращает список лемм из текста. "
   ]
  },
  {
   "cell_type": "code",
   "execution_count": 2,
   "metadata": {},
   "outputs": [],
   "source": [
    "def extract_words(text):\n",
    "    lst = re.findall('\\w+', text.lower())\n",
    "    s = set(lst)\n",
    "    lemmas = []\n",
    "    for i in s:\n",
    "        lemma = m.lemmatize(i)[0]\n",
    "        lemmas.insert(0, lemma)\n",
    "    return lemmas"
   ]
  },
  {
   "cell_type": "markdown",
   "metadata": {},
   "source": [
    "Считаем tf для данного слова и документа. Т.е. считаем, сколько раз слово встречается в определенном документе. "
   ]
  },
  {
   "cell_type": "code",
   "execution_count": 3,
   "metadata": {},
   "outputs": [],
   "source": [
    "\"\"\"def count_tf(words, q):    \n",
    "    result = 0\n",
    "    for w in words:\n",
    "        if w == q:\n",
    "            result += 1\n",
    "    return result\n",
    "\"\"\"\n",
    "def count_tf(words, q):\n",
    "    text = ' '.join([w for w in words])\n",
    "    #print(text)\n",
    "    raw = text.count(q)\n",
    "    if not raw:\n",
    "        return 0\n",
    "    return raw"
   ]
  },
  {
   "cell_type": "markdown",
   "metadata": {},
   "source": [
    "Загружаем ранее подсчитанные величины: мешок слов, обратный индекс, обратную частоту документа. "
   ]
  },
  {
   "cell_type": "code",
   "execution_count": 4,
   "metadata": {},
   "outputs": [],
   "source": [
    "bow = pickle.load(open('bow.pickle', 'rb'))\n",
    "inverted_index = pickle.load(open('inverted_index.pickle', 'rb'))\n",
    "idf = pickle.load(open('idf.pickle', 'rb'))\n",
    "#idf"
   ]
  },
  {
   "cell_type": "markdown",
   "metadata": {},
   "source": [
    "Вводим запрос и лемматизируем его. "
   ]
  },
  {
   "cell_type": "code",
   "execution_count": 5,
   "metadata": {},
   "outputs": [
    {
     "name": "stdout",
     "output_type": "stream",
     "text": [
      "россия недовольна меланией\n",
      "['россия', 'недовольный', 'мелания']\n"
     ]
    }
   ],
   "source": [
    "#query = input().lower()\n",
    "Q = 'Россия недовольна Меланией'\n",
    "query = Q.lower()\n",
    "print(query)\n",
    "query = extract_words(query)\n",
    "print(query)"
   ]
  },
  {
   "cell_type": "markdown",
   "metadata": {},
   "source": [
    "Считаем максимальный TF-IDF, отвечаем на запрос. "
   ]
  },
  {
   "cell_type": "code",
   "execution_count": 7,
   "metadata": {},
   "outputs": [
    {
     "name": "stdout",
     "output_type": "stream",
     "text": [
      "Query is: Россия недовольна Меланией\n",
      "Document number 64 corresponds to query the most\n",
      "TF-IDF weight equals 0.63\n"
     ]
    }
   ],
   "source": [
    "print('Query is:', Q)\n",
    "\n",
    "tf_idf = {}\n",
    "for q in query:\n",
    "    #print(q)\n",
    "    if q not in bow:\n",
    "        continue\n",
    "    \n",
    "    for i in inverted_index[q]:\n",
    "        filename = 'info retrieval txt/(' + str(i) + ').txt'\n",
    "        text = open(filename, encoding='utf-8').read()\n",
    "        words = extract_words(text)\n",
    "        tf = 1.0 + math.log10(count_tf(words, q))\n",
    "        if i in tf_idf:\n",
    "            tf_idf[i] +=tf * idf[q]\n",
    "        else:\n",
    "            tf_idf[i] = tf * idf[q]      \n",
    "#print(tf_idf)\n",
    "doc = 0\n",
    "m = 0.0\n",
    "for key in tf_idf:\n",
    "    if tf_idf[key] > m:\n",
    "        m = round(tf_idf[key], 3)\n",
    "        doc = key\n",
    "\n",
    "if doc == 0:\n",
    "    print('There is no document that corresponds to your query')\n",
    "else:\n",
    "    print('Document number {0} corresponds to query the most'.format(doc))\n",
    "    print('TF-IDF weight equals {0}'.format(m))"
   ]
  },
  {
   "cell_type": "code",
   "execution_count": null,
   "metadata": {},
   "outputs": [],
   "source": [
    "#[print(i, end=' ') for i in Q]"
   ]
  },
  {
   "cell_type": "code",
   "execution_count": null,
   "metadata": {},
   "outputs": [],
   "source": [
    "#'\\w+|\\S'\n",
    "#'\\S' = НЕ white space"
   ]
  },
  {
   "cell_type": "code",
   "execution_count": null,
   "metadata": {},
   "outputs": [],
   "source": [
    "\"\"\"if t not in d:\n",
    "    d[t] = []\n",
    "d[t].append(i)\n",
    "\n",
    "with open('inverted_index.pickle', 'wb') as f:\n",
    "    pickle.dump(d, f)\n",
    "\n",
    "str = ' '.join([str(id) for id in d[t]])\n",
    "\"\"\""
   ]
  },
  {
   "cell_type": "code",
   "execution_count": null,
   "metadata": {},
   "outputs": [],
   "source": [
    "#res = set(d.get(terms[0]))"
   ]
  },
  {
   "cell_type": "code",
   "execution_count": null,
   "metadata": {},
   "outputs": [],
   "source": [
    "\"\"\"for w, f in all_idfs.items():\n",
    "    idf = math.log(N/f)\n",
    "    all_idfs[w] = idf\n",
    "    \n",
    "!работает, т.к. идем не по all_idfs, а по.items()\"\"\""
   ]
  }
 ],
 "metadata": {
  "kernelspec": {
   "display_name": "Python 3",
   "language": "python",
   "name": "python3"
  },
  "language_info": {
   "codemirror_mode": {
    "name": "ipython",
    "version": 3
   },
   "file_extension": ".py",
   "mimetype": "text/x-python",
   "name": "python",
   "nbconvert_exporter": "python",
   "pygments_lexer": "ipython3",
   "version": "3.5.2"
  }
 },
 "nbformat": 4,
 "nbformat_minor": 2
}
