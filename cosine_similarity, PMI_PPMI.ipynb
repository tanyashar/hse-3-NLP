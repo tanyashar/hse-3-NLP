{
 "cells": [
  {
   "cell_type": "markdown",
   "metadata": {},
   "source": [
    "### Вычисление косинусного подобия на абстрактных данных"
   ]
  },
  {
   "cell_type": "markdown",
   "metadata": {},
   "source": [
    "Реализуем вычисление косинусного подобия в виде функции cos_sim(counts_dict1, counts_dict2)"
   ]
  },
  {
   "cell_type": "code",
   "execution_count": null,
   "metadata": {},
   "outputs": [],
   "source": [
    "from collections import Counter\n",
    "import math\n",
    "import re"
   ]
  },
  {
   "cell_type": "markdown",
   "metadata": {},
   "source": [
    "num = numerator; denom = denominator; dct.values() = частоты в словаре"
   ]
  },
  {
   "cell_type": "code",
   "execution_count": null,
   "metadata": {},
   "outputs": [],
   "source": [
    "def cos_sim(dct1, dct2):\n",
    "    num = 0\n",
    "    used = []\n",
    "    for key1 in dct1:\n",
    "        for key2 in dct2:\n",
    "            if key1 in dct2 and key1 not in used:\n",
    "                num += dct1[key1] * dct2[key1]\n",
    "                used.append(key1)\n",
    "                \n",
    "    denom1, denom2 = 0, 0\n",
    "    for i in dct1.values():\n",
    "        denom1 += i * i\n",
    "    for i in dct2.values():\n",
    "        denom2 += i * i\n",
    "    denom = math.sqrt(denom1)*math.sqrt(denom2)\n",
    "    \n",
    "    return num/denom"
   ]
  },
  {
   "cell_type": "code",
   "execution_count": null,
   "metadata": {},
   "outputs": [],
   "source": [
    "cos_sim(Counter((1, 0, 0)), Counter((1, 6, 1)))"
   ]
  },
  {
   "cell_type": "code",
   "execution_count": null,
   "metadata": {},
   "outputs": [],
   "source": [
    "cos_sim(Counter((0, 1, 2)), Counter((1, 6, 1)))"
   ]
  },
  {
   "cell_type": "code",
   "execution_count": null,
   "metadata": {},
   "outputs": [],
   "source": [
    "cos_sim(Counter((1, 0, 0)), Counter((0, 1, 2)))"
   ]
  },
  {
   "cell_type": "code",
   "execution_count": null,
   "metadata": {},
   "outputs": [],
   "source": [
    "cos_sim(Counter(('a', 'hh', 'hh')), Counter(('hh', 'a', 'z')))"
   ]
  },
  {
   "cell_type": "markdown",
   "metadata": {},
   "source": [
    "### Вычисление косинусного подобия предложений, представленных в виде мешка слов"
   ]
  },
  {
   "cell_type": "markdown",
   "metadata": {},
   "source": [
    "Функция bag_of_words представляет предложение в виде мешка слов"
   ]
  },
  {
   "cell_type": "code",
   "execution_count": null,
   "metadata": {},
   "outputs": [],
   "source": [
    "def bag_of_words(text):\n",
    "    return re.findall('\\w+', text.lower())"
   ]
  },
  {
   "cell_type": "code",
   "execution_count": null,
   "metadata": {},
   "outputs": [],
   "source": [
    "sen1 = 'The cat is on the mat.'\n",
    "sen2 = 'The cat is on the chair.'\n",
    "sen3 = 'I bought a new chair.'"
   ]
  },
  {
   "cell_type": "code",
   "execution_count": null,
   "metadata": {},
   "outputs": [],
   "source": [
    "bow1 = Counter(bag_of_words(sen1))\n",
    "bow2 = Counter(bag_of_words(sen2))\n",
    "bow3 = Counter(bag_of_words(sen3))\n",
    "print(bow1)\n",
    "print(bow2)\n",
    "print(bow3)"
   ]
  },
  {
   "cell_type": "code",
   "execution_count": null,
   "metadata": {},
   "outputs": [],
   "source": [
    "cos_sim(bow1, bow2)"
   ]
  },
  {
   "cell_type": "code",
   "execution_count": null,
   "metadata": {},
   "outputs": [],
   "source": [
    "cos_sim(bow1, bow3)"
   ]
  },
  {
   "cell_type": "code",
   "execution_count": null,
   "metadata": {},
   "outputs": [],
   "source": [
    "cos_sim(bow2, bow3)"
   ]
  },
  {
   "cell_type": "markdown",
   "metadata": {},
   "source": [
    "### Реализуем PPMI для матрицы слово-контекст \n",
    "#### PPMI = Positive Pointwise Mutual (= взаимный, обоюдный) Information scores\n",
    "#### PMI = Pointwise Mutual Information scores"
   ]
  },
  {
   "cell_type": "code",
   "execution_count": 41,
   "metadata": {},
   "outputs": [],
   "source": [
    "import math"
   ]
  },
  {
   "cell_type": "code",
   "execution_count": 42,
   "metadata": {},
   "outputs": [],
   "source": [
    "dct = \\\n",
    "{'апельсин': {'вкусный': 1,\n",
    "              'данные': 0,\n",
    "              'компьютер': 0,\n",
    "              'результат': 0,\n",
    "              'сладкий': 1},\n",
    " 'информация': {'вкусный': 0,\n",
    "                'данные': 6,\n",
    "                'компьютер': 1,\n",
    "                'результат': 4,\n",
    "                'сладкий': 0},\n",
    " 'цифровой': {'вкусный': 0,\n",
    "              'данные': 1,\n",
    "              'компьютер': 2,\n",
    "              'результат': 1,\n",
    "              'сладкий': 0},\n",
    " 'яблоко': {'вкусный': 1,\n",
    "            'данные': 0,\n",
    "            'компьютер': 1,\n",
    "            'результат': 0,\n",
    "            'сладкий': 1}}\n"
   ]
  },
  {
   "cell_type": "markdown",
   "metadata": {},
   "source": [
    "total_counts = сумма всех частот"
   ]
  },
  {
   "cell_type": "code",
   "execution_count": 43,
   "metadata": {},
   "outputs": [],
   "source": [
    "def total(dct):\n",
    "    total_counts = 0\n",
    "    for d in dct.values():\n",
    "        for key in d:\n",
    "            total_counts += d[key]\n",
    "    return total_counts "
   ]
  },
  {
   "cell_type": "markdown",
   "metadata": {},
   "source": [
    "p_wc = вероятность встречи слово-контекст; это - числитель дроби PMI\n",
    "\n",
    "В знаменателе дроби - произведение вероятности слова на вероятность контекста. \n",
    "\n",
    "Вероятность слова (p_w) рассчитывается как его общая частота (во всех контекстах), делённая на сумму всех частот в матрице. \n",
    "\n",
    "Вероятность контекста (p_c) рассчитывается как общая частота контекста, делённая на сумму всех частот в матрице. "
   ]
  },
  {
   "cell_type": "code",
   "execution_count": 44,
   "metadata": {},
   "outputs": [],
   "source": [
    "def word_probability(word, context, dct, total_counts):\n",
    "    p_w = 0.0\n",
    "    for key in dct[word]:\n",
    "        p_w += dct[word][key]\n",
    "    p_w /= total_counts\n",
    "    return p_w"
   ]
  },
  {
   "cell_type": "code",
   "execution_count": 45,
   "metadata": {},
   "outputs": [],
   "source": [
    "def context_probability(word, context, dct, total_counts):\n",
    "    p_c = 0.0\n",
    "    for d in dct.values():\n",
    "        p_c += d[context]\n",
    "        #print(d)\n",
    "    p_c /= total_counts\n",
    "    return p_c"
   ]
  },
  {
   "cell_type": "markdown",
   "metadata": {},
   "source": [
    "PPMI отличается только тем, что негативные значения PMI заменяются на 0"
   ]
  },
  {
   "cell_type": "code",
   "execution_count": 46,
   "metadata": {},
   "outputs": [],
   "source": [
    "def find_pmi(word, context, dct, total_counts):\n",
    "    p_wc = dct[word][context] / total_counts\n",
    "    \n",
    "    p_w = word_probability(word, context, dct, total_counts)\n",
    "    p_c = context_probability(word, context, dct, total_counts)\n",
    "    \n",
    "    pmi = math.log2(p_wc / (p_w * p_c))\n",
    "    if pmi < 0:\n",
    "        ppmi = 0\n",
    "    else:\n",
    "        ppmi = pmi\n",
    "    return (pmi, ppmi)"
   ]
  },
  {
   "cell_type": "code",
   "execution_count": 47,
   "metadata": {},
   "outputs": [],
   "source": [
    "#word, context = \"информация\", \"данные\"\n",
    "word, context = \"информация\", \"результат\"\n",
    "#word, context = \"информация\", \"результат\"\n",
    "#word, context = \"информация\", \"компьютер\""
   ]
  },
  {
   "cell_type": "code",
   "execution_count": 48,
   "metadata": {},
   "outputs": [
    {
     "name": "stdout",
     "output_type": "stream",
     "text": [
      "query = информация результат\n",
      "PMI = 0.5405683813627027\n",
      "PPMI = 0.5405683813627027\n"
     ]
    }
   ],
   "source": [
    "total_counts = total(dct)\n",
    "#print('word =', word, '; context =', context)\n",
    "print('query =', word, context)\n",
    "PMI, PPMI = find_pmi(word, context, dct, total_counts)\n",
    "print('PMI =', PMI)\n",
    "print('PPMI =', PPMI)"
   ]
  },
  {
   "cell_type": "markdown",
   "metadata": {},
   "source": [
    "### Реализуем сглаживание Add-2. \n",
    "#### Для этого нужно к числу в каждой ячейке прибавить 2"
   ]
  },
  {
   "cell_type": "code",
   "execution_count": 49,
   "metadata": {},
   "outputs": [],
   "source": [
    "dct = \\\n",
    "{'апельсин': {'вкусный': 1,\n",
    "              'данные': 0,\n",
    "              'компьютер': 0,\n",
    "              'результат': 0,\n",
    "              'сладкий': 1},\n",
    " 'информация': {'вкусный': 0,\n",
    "                'данные': 6,\n",
    "                'компьютер': 1,\n",
    "                'результат': 4,\n",
    "                'сладкий': 0},\n",
    " 'цифровой': {'вкусный': 0,\n",
    "              'данные': 1,\n",
    "              'компьютер': 2,\n",
    "              'результат': 1,\n",
    "              'сладкий': 0},\n",
    " 'яблоко': {'вкусный': 1,\n",
    "            'данные': 0,\n",
    "            'компьютер': 1,\n",
    "            'результат': 0,\n",
    "            'сладкий': 1}}"
   ]
  },
  {
   "cell_type": "code",
   "execution_count": 50,
   "metadata": {},
   "outputs": [
    {
     "data": {
      "text/plain": [
       "{'апельсин': {'вкусный': 3,\n",
       "  'данные': 2,\n",
       "  'компьютер': 2,\n",
       "  'результат': 2,\n",
       "  'сладкий': 3},\n",
       " 'информация': {'вкусный': 2,\n",
       "  'данные': 8,\n",
       "  'компьютер': 3,\n",
       "  'результат': 6,\n",
       "  'сладкий': 2},\n",
       " 'цифровой': {'вкусный': 2,\n",
       "  'данные': 3,\n",
       "  'компьютер': 4,\n",
       "  'результат': 3,\n",
       "  'сладкий': 2},\n",
       " 'яблоко': {'вкусный': 3,\n",
       "  'данные': 2,\n",
       "  'компьютер': 3,\n",
       "  'результат': 2,\n",
       "  'сладкий': 3}}"
      ]
     },
     "execution_count": 50,
     "metadata": {},
     "output_type": "execute_result"
    }
   ],
   "source": [
    "for d in dct.values():\n",
    "    for key in d:\n",
    "        d[key] += 2\n",
    "dct"
   ]
  },
  {
   "cell_type": "code",
   "execution_count": 51,
   "metadata": {},
   "outputs": [],
   "source": [
    "#word, context = \"информация\", \"данные\"\n",
    "word, context = \"информация\", \"результат\"\n",
    "#word, context = \"информация\", \"результат\"\n",
    "#word, context = \"информация\", \"компьютер\""
   ]
  },
  {
   "cell_type": "code",
   "execution_count": 53,
   "metadata": {},
   "outputs": [
    {
     "name": "stdout",
     "output_type": "stream",
     "text": [
      "query = информация результат\n",
      "PMI = 0.3990959554098223\n",
      "PPMI = 0.3990959554098223\n"
     ]
    }
   ],
   "source": [
    "total_counts = total(dct)\n",
    "#print(total_counts)\n",
    "#print('word =', word, '; context =', context)\n",
    "print('query =', word, context)\n",
    "PMI, PPMI = find_pmi(word, context, dct, total_counts)\n",
    "print('PMI =', PMI)\n",
    "print('PPMI =', PPMI)"
   ]
  },
  {
   "cell_type": "code",
   "execution_count": null,
   "metadata": {},
   "outputs": [],
   "source": []
  }
 ],
 "metadata": {
  "kernelspec": {
   "display_name": "Python 3",
   "language": "python",
   "name": "python3"
  },
  "language_info": {
   "codemirror_mode": {
    "name": "ipython",
    "version": 3
   },
   "file_extension": ".py",
   "mimetype": "text/x-python",
   "name": "python",
   "nbconvert_exporter": "python",
   "pygments_lexer": "ipython3",
   "version": "3.5.2"
  }
 },
 "nbformat": 4,
 "nbformat_minor": 2
}
